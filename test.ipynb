{
 "cells": [
  {
   "cell_type": "code",
   "execution_count": null,
   "metadata": {},
   "outputs": [],
   "source": [
    "import pandas as pd\n",
    "from tqdm import tqdm\n",
    "import requests\n",
    "import time\n",
    "import random\n",
    "import os\n",
    "import PyPDF2"
   ]
  },
  {
   "cell_type": "code",
   "execution_count": null,
   "metadata": {},
   "outputs": [],
   "source": [
    "# typical存在一个重复行，其他内容没有问题\n",
    "\n",
    "# single文件夹文件个数奇数问题查看\n",
    "single_letter_file_path = '../sec_single_letter_file/'\n",
    "single_letter_txt_file_list = [i for i in os.listdir(single_letter_file_path) if i.endswith('.txt')]\n",
    "print(f'txt file:{len(single_letter_txt_file_list)}')\n",
    "single_letter_pdf_file_list = [i for i in os.listdir(single_letter_file_path) if i.endswith('.pdf')]\n",
    "print(f'pdf file:{len(single_letter_pdf_file_list)}')\n",
    "single_letter_htm_file_list = [i for i in os.listdir(single_letter_file_path) if i.endswith('.htm')]\n",
    "print(f'htm file:{len(single_letter_htm_file_list)}')\n",
    "\n",
    "\n",
    "df = pd.read_csv('../comment_info_all.csv').dropna(subset=['pdf_url'])\n",
    "with tqdm(total=len(df)) as pbar:\n",
    "    for index ,row in df.iterrows():\n",
    "        url = str(row['pdf_url'])\n",
    "        file_name = url.split('/')[-1]\n",
    "        file_name_endwith = file_name.split('.')[-1]\n",
    "        file_txt_name = file_name.replace(file_name_endwith, 'txt')\n",
    "        # print(file_name)\n",
    "        # print(file_txt_name)\n",
    "        if file_txt_name in single_letter_txt_file_list:\n",
    "            df.loc[index, 'txt_file_exist'] = 1\n",
    "        else:\n",
    "            df.loc[index, 'txt_file_exist'] = 0\n",
    "\n",
    "        if file_name_endwith == 'pdf':\n",
    "            if file_name in single_letter_pdf_file_list:\n",
    "                df.loc[index, 'pdf_file_exist'] = 1\n",
    "            else:\n",
    "                df.loc[index, 'pdf_file_exist'] = 0\n",
    "        elif file_name_endwith == 'htm':\n",
    "            if file_name in single_letter_htm_file_list:\n",
    "                df.loc[index, 'htm_file_exist'] = 1\n",
    "            else:\n",
    "                df.loc[index, 'htm_file_exist'] = 0\n",
    "        else:\n",
    "            df.loc[index, 'pdf_file_exist'] = 0\n",
    "            df.loc[index, 'htm_file_exist'] = 0\n",
    "        \n",
    "        pbar.update(1)"
   ]
  },
  {
   "cell_type": "code",
   "execution_count": null,
   "metadata": {},
   "outputs": [],
   "source": [
    "df.fillna(0, inplace=True)"
   ]
  },
  {
   "cell_type": "code",
   "execution_count": null,
   "metadata": {},
   "outputs": [],
   "source": [
    "df.loc[1415, 'pdf_url']"
   ]
  },
  {
   "cell_type": "code",
   "execution_count": null,
   "metadata": {},
   "outputs": [],
   "source": [
    "df['orgin_file_exist'] = df['pdf_file_exist'] + df['htm_file_exist']\n",
    "tempt_df = df[(df['txt_file_exist']==1) & (df['orgin_file_exist']==0)]\n",
    "tempt_df['file_index'] = tempt_df['pdf_url'].apply(lambda x: x.split('/')[-1].replace('.txt', ''))\n",
    "tempt_df['file_index']"
   ]
  },
  {
   "cell_type": "code",
   "execution_count": null,
   "metadata": {},
   "outputs": [],
   "source": [
    "pdf_url_list = df.dropna(subset=['pdf_url']).drop_duplicates('pdf_url')['pdf_url'].tolist()\n",
    "len(pdf_url_list)\n",
    "\n",
    "# total = 68517\n",
    "# dropna = 64662\n",
    "# duplicate = 48825"
   ]
  },
  {
   "cell_type": "code",
   "execution_count": null,
   "metadata": {},
   "outputs": [],
   "source": [
    "df = pd.read_csv('../comment_info_all.csv').dropna(subset=['pdf_url'])\n",
    "df[df.duplicated(subset=['pdf_url'], keep=False)].to_csv('./url_duplicate.csv', index=False)"
   ]
  }
 ],
 "metadata": {
  "kernelspec": {
   "display_name": "base",
   "language": "python",
   "name": "python3"
  },
  "language_info": {
   "codemirror_mode": {
    "name": "ipython",
    "version": 3
   },
   "file_extension": ".py",
   "mimetype": "text/x-python",
   "name": "python",
   "nbconvert_exporter": "python",
   "pygments_lexer": "ipython3",
   "version": "3.8.5"
  }
 },
 "nbformat": 4,
 "nbformat_minor": 2
}
