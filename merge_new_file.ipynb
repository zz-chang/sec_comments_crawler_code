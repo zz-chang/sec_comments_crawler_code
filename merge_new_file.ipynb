{
 "cells": [
  {
   "cell_type": "code",
   "execution_count": 1,
   "metadata": {},
   "outputs": [],
   "source": [
    "import pandas as pd"
   ]
  },
  {
   "cell_type": "code",
   "execution_count": 45,
   "metadata": {},
   "outputs": [],
   "source": [
    "comment_info_all_corrected = pd.read_csv('../comment_info_all_corrected.csv')\n",
    "\n",
    "comment_info_all_corrected['url_suffix'] = comment_info_all_corrected['pdf_url'].str.split('/').str[-1]\n",
    "comment_info_all_corrected['url_suffix'] = comment_info_all_corrected['url_suffix'].str.split('.').str[0]"
   ]
  },
  {
   "cell_type": "code",
   "execution_count": 46,
   "metadata": {},
   "outputs": [],
   "source": [
    "single_letter_file_length_list = pd.read_csv('../single_letter_file_length_list.csv')\n",
    "single_letter_file_length_list['url_suffix'] = single_letter_file_length_list['single_letter_file_list'].str.split('.').str[0]\n",
    "single_letter_file_length_list.drop(columns=['single_letter_file_list'], inplace=True)"
   ]
  },
  {
   "cell_type": "code",
   "execution_count": 47,
   "metadata": {},
   "outputs": [],
   "source": [
    "# merge\n",
    "comment_info_all_corrected_merged = pd.merge(comment_info_all_corrected, single_letter_file_length_list, on='url_suffix', how='right')"
   ]
  },
  {
   "cell_type": "code",
   "execution_count": 50,
   "metadata": {},
   "outputs": [],
   "source": [
    "comment_info_all_corrected_merged.drop(columns=['url_suffix']).to_csv('../comment_info_all_corrected_merged.csv', index=False)"
   ]
  },
  {
   "cell_type": "markdown",
   "metadata": {},
   "source": [
    "# 小于15个字的文件筛选"
   ]
  },
  {
   "cell_type": "code",
   "execution_count": 37,
   "metadata": {},
   "outputs": [],
   "source": [
    "import os\n",
    "import shutil\n",
    "\n",
    "single_letter_file_length_list = pd.read_csv('../single_letter_file_length_list.csv')\n",
    "typical_letter_file_length_list = pd.read_csv('../typical_letter_file_length_list.csv')\n",
    "single_letter_file_length_list_less15 = single_letter_file_length_list[single_letter_file_length_list['content_length'] < 15]"
   ]
  },
  {
   "cell_type": "code",
   "execution_count": 39,
   "metadata": {},
   "outputs": [
    {
     "data": {
      "text/html": [
       "<div>\n",
       "<style scoped>\n",
       "    .dataframe tbody tr th:only-of-type {\n",
       "        vertical-align: middle;\n",
       "    }\n",
       "\n",
       "    .dataframe tbody tr th {\n",
       "        vertical-align: top;\n",
       "    }\n",
       "\n",
       "    .dataframe thead th {\n",
       "        text-align: right;\n",
       "    }\n",
       "</style>\n",
       "<table border=\"1\" class=\"dataframe\">\n",
       "  <thead>\n",
       "    <tr style=\"text-align: right;\">\n",
       "      <th></th>\n",
       "      <th>single_letter_file_list</th>\n",
       "      <th>content_length</th>\n",
       "    </tr>\n",
       "  </thead>\n",
       "  <tbody>\n",
       "    <tr>\n",
       "      <th>0</th>\n",
       "      <td>2007gbforumproceedings.txt</td>\n",
       "      <td>31572</td>\n",
       "    </tr>\n",
       "    <tr>\n",
       "      <th>1</th>\n",
       "      <td>26526-3.txt</td>\n",
       "      <td>1171</td>\n",
       "    </tr>\n",
       "    <tr>\n",
       "      <th>2</th>\n",
       "      <td>26527-47.txt</td>\n",
       "      <td>131</td>\n",
       "    </tr>\n",
       "    <tr>\n",
       "      <th>3</th>\n",
       "      <td>26528-2748128-161587.txt</td>\n",
       "      <td>1107</td>\n",
       "    </tr>\n",
       "    <tr>\n",
       "      <th>4</th>\n",
       "      <td>4573-223.txt</td>\n",
       "      <td>93</td>\n",
       "    </tr>\n",
       "    <tr>\n",
       "      <th>...</th>\n",
       "      <td>...</td>\n",
       "      <td>...</td>\n",
       "    </tr>\n",
       "    <tr>\n",
       "      <th>48775</th>\n",
       "      <td>wswright3014.txt</td>\n",
       "      <td>545</td>\n",
       "    </tr>\n",
       "    <tr>\n",
       "      <th>48776</th>\n",
       "      <td>wtarallo3592.txt</td>\n",
       "      <td>111</td>\n",
       "    </tr>\n",
       "    <tr>\n",
       "      <th>48777</th>\n",
       "      <td>wtspiropoulos5105.txt</td>\n",
       "      <td>200</td>\n",
       "    </tr>\n",
       "    <tr>\n",
       "      <th>48778</th>\n",
       "      <td>ycitizen9115.txt</td>\n",
       "      <td>71</td>\n",
       "    </tr>\n",
       "    <tr>\n",
       "      <th>48779</th>\n",
       "      <td>yjuan4901.txt</td>\n",
       "      <td>104</td>\n",
       "    </tr>\n",
       "  </tbody>\n",
       "</table>\n",
       "<p>48780 rows × 2 columns</p>\n",
       "</div>"
      ],
      "text/plain": [
       "          single_letter_file_list  content_length\n",
       "0      2007gbforumproceedings.txt           31572\n",
       "1                     26526-3.txt            1171\n",
       "2                    26527-47.txt             131\n",
       "3        26528-2748128-161587.txt            1107\n",
       "4                    4573-223.txt              93\n",
       "...                           ...             ...\n",
       "48775            wswright3014.txt             545\n",
       "48776            wtarallo3592.txt             111\n",
       "48777       wtspiropoulos5105.txt             200\n",
       "48778            ycitizen9115.txt              71\n",
       "48779               yjuan4901.txt             104\n",
       "\n",
       "[48780 rows x 2 columns]"
      ]
     },
     "execution_count": 39,
     "metadata": {},
     "output_type": "execute_result"
    }
   ],
   "source": [
    "single_letter_file_length_list[single_letter_file_length_list]"
   ]
  },
  {
   "cell_type": "code",
   "execution_count": 38,
   "metadata": {},
   "outputs": [
    {
     "name": "stdout",
     "output_type": "stream",
     "text": [
      "file not found: s70808-262.pdf\n"
     ]
    }
   ],
   "source": [
    "for index, row in single_letter_file_length_list_less15.iterrows():\n",
    "    file_name_pdf = row['single_letter_file_list'].replace('.txt', '.pdf')\n",
    "    file_name_htm = row['single_letter_file_list'].replace('.txt', '.htm')\n",
    "    # print('../sec_single_letter_file/' + file_name_pdf)\n",
    "    if os.path.exists('../sec_single_letter_file/' + file_name_pdf):\n",
    "        original_file_path = '../sec_single_letter_file/' + file_name_pdf\n",
    "        new_file_path = '../sec_single_letter_file_length_less15/' + file_name_pdf\n",
    "        shutil.copyfile(original_file_path, new_file_path)\n",
    "    elif os.path.exists('../sec_single_letter_file/' + file_name_htm):\n",
    "        original_file_path = '../sec_single_letter_file/' + file_name_htm\n",
    "        new_file_path = '../sec_single_letter_file_length_less15/' + file_name_htm\n",
    "        shutil.copyfile(original_file_path, new_file_path)\n",
    "    else:\n",
    "        print('file not found: ' + file_name_pdf)"
   ]
  }
 ],
 "metadata": {
  "kernelspec": {
   "display_name": "base",
   "language": "python",
   "name": "python3"
  },
  "language_info": {
   "codemirror_mode": {
    "name": "ipython",
    "version": 3
   },
   "file_extension": ".py",
   "mimetype": "text/x-python",
   "name": "python",
   "nbconvert_exporter": "python",
   "pygments_lexer": "ipython3",
   "version": "3.8.5"
  }
 },
 "nbformat": 4,
 "nbformat_minor": 2
}
